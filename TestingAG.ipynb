{
 "cells": [
  {
   "cell_type": "code",
   "execution_count": 6,
   "id": "a3b24e80-347e-4053-91c1-0fa5d5a5457e",
   "metadata": {},
   "outputs": [
    {
     "name": "stdout",
     "output_type": "stream",
     "text": [
      "Populating the interactive namespace from numpy and matplotlib\n"
     ]
    }
   ],
   "source": [
    "%pylab inline"
   ]
  },
  {
   "cell_type": "code",
   "execution_count": 7,
   "id": "009ff78e-54a2-44e1-a16e-021f661dd7d9",
   "metadata": {},
   "outputs": [],
   "source": [
    "def innput(number):\n",
    "    '''\n",
    "    number  ->  number of questions \n",
    "    return: a list of answers, warning raised if it's not complete\n",
    "    '''\n",
    "    answers = []\n",
    "    i = 0\n",
    "    while len(answers) != number:\n",
    "        if i>0:\n",
    "            print('!WARNING: Not complete! ReType it!')\n",
    "        answers.clear()\n",
    "        i =+ 1\n",
    "        ansinput = input()\n",
    "        for _ans in ansinput:\n",
    "            if _ans=='A':\n",
    "                answers.append('A')\n",
    "            if _ans=='B':\n",
    "                answers.append('B')\n",
    "            if _ans=='C':\n",
    "                answers.append('C')\n",
    "            if _ans=='D':\n",
    "                answers.append('D')\n",
    "    return answers\n",
    "#-------------------------------------------- Li\n",
    "'''    answers = []\n",
    "    ansinput = input()\n",
    "    for _ans in ansinput:\n",
    "        if _ans=='A':\n",
    "            answers.append('A')\n",
    "        if _ans=='B':\n",
    "            answers.append('B')\n",
    "        if _ans=='C':\n",
    "            answers.append('C')\n",
    "        if _ans=='D':\n",
    "            answers.append('D')\n",
    "    try:\n",
    "        assert len(answers) == number\n",
    "    except AssertionError:\n",
    "        print('!WARNING: Not complete! ReType it!')\n",
    "        answers.clear()'''\n",
    "#----------------------------------------------\n",
    "    \n",
    "\n",
    "def grade(s, solutions, answers):\n",
    "    '''\n",
    "    s  ->  amount of questions\n",
    "    return: incorrects\n",
    "    '''\n",
    "    counter = 0\n",
    "    incor = ''\n",
    "    if len(answers) != s:\n",
    "        print('!WARNING: Answers not complete!')\n",
    "    if len(solutions) != s:\n",
    "        print('!WARNING: Solutions not complete!')\n",
    "    for i, _solution in enumerate(solutions):\n",
    "        if _solution != answers[i]:\n",
    "            incor = incor + str(i+1) + '. ' + str(_solution) + '\\n' \n",
    "            #print(i+1,'. ', _solution)\n",
    "            counter += 1\n",
    "    return counter, incor"
   ]
  },
  {
   "cell_type": "code",
   "execution_count": 8,
   "id": "32a10704-26a8-461f-ad05-671ccd1d2241",
   "metadata": {},
   "outputs": [],
   "source": [
    "def SATgrading():\n",
    "    '''\n",
    "    output incorrect questions with solutions and grades\n",
    "    '''\n",
    "    s = [2, 4, 1, 3]  # number of questions in each section\n",
    "    print('input s1 solutions:')\n",
    "    s1 = innput(s[0])\n",
    "    print('input s2 solutions:')\n",
    "    s2 = innput(s[1])\n",
    "    print('input s3 solutions:')\n",
    "    s3 = innput(s[2])\n",
    "    print('input s4 solutions:')\n",
    "    s4 = innput(s[3])\n",
    "    \n",
    "    print('input s1 answers:')\n",
    "    a1 = innput(s[0])\n",
    "    print('input s2 answers:')\n",
    "    a2 = innput(s[1])\n",
    "    print('input s3 answers:')\n",
    "    a3 = innput(s[2])\n",
    "    print('input s4 answers:')\n",
    "    a4 = innput(s[3])\n",
    "    \n",
    "    _score, _incor = grade(s[0],s1,a1)\n",
    "    print('Section 1: '+str(_score))\n",
    "    print(_incor)\n",
    "\n",
    "    _score, _incor = grade(s[1],s2,a2)\n",
    "    print('Section 2: '+str(_score))\n",
    "    print(_incor)\n",
    "    \n",
    "    _score, _incor = grade(s[2],s3,a3)\n",
    "    print('Section 3: '+str(_score))\n",
    "    print(_incor)\n",
    "    \n",
    "    _score, _incor = grade(s[3],s4,a4)\n",
    "    print('Section 4: '+str(_score))\n",
    "    print(_incor)\n",
    "    \n",
    "    return ''"
   ]
  },
  {
   "cell_type": "code",
   "execution_count": 9,
   "id": "38ef6358-c955-4892-ba16-39f1b63edfd1",
   "metadata": {},
   "outputs": [
    {
     "name": "stdout",
     "output_type": "stream",
     "text": [
      "input s1 solutions:\n"
     ]
    },
    {
     "name": "stdin",
     "output_type": "stream",
     "text": [
      " AB\n"
     ]
    },
    {
     "name": "stdout",
     "output_type": "stream",
     "text": [
      "input s2 solutions:\n"
     ]
    },
    {
     "name": "stdin",
     "output_type": "stream",
     "text": [
      " BAB\n"
     ]
    },
    {
     "name": "stdout",
     "output_type": "stream",
     "text": [
      "!WARNING: Not complete! ReType it!\n"
     ]
    },
    {
     "name": "stdin",
     "output_type": "stream",
     "text": [
      " A\n"
     ]
    },
    {
     "name": "stdout",
     "output_type": "stream",
     "text": [
      "!WARNING: Not complete! ReType it!\n"
     ]
    },
    {
     "name": "stdin",
     "output_type": "stream",
     "text": [
      " CBA\n"
     ]
    },
    {
     "name": "stdout",
     "output_type": "stream",
     "text": [
      "!WARNING: Not complete! ReType it!\n"
     ]
    },
    {
     "name": "stdin",
     "output_type": "stream",
     "text": [
      " AB, CD/,\n"
     ]
    },
    {
     "name": "stdout",
     "output_type": "stream",
     "text": [
      "input s3 solutions:\n"
     ]
    },
    {
     "name": "stdin",
     "output_type": "stream",
     "text": [
      " C\n"
     ]
    },
    {
     "name": "stdout",
     "output_type": "stream",
     "text": [
      "input s4 solutions:\n"
     ]
    },
    {
     "name": "stdin",
     "output_type": "stream",
     "text": [
      " ABC\n"
     ]
    },
    {
     "name": "stdout",
     "output_type": "stream",
     "text": [
      "input s1 answers:\n"
     ]
    },
    {
     "name": "stdin",
     "output_type": "stream",
     "text": [
      " AC\n"
     ]
    },
    {
     "name": "stdout",
     "output_type": "stream",
     "text": [
      "input s2 answers:\n"
     ]
    },
    {
     "name": "stdin",
     "output_type": "stream",
     "text": [
      " BCB\n"
     ]
    },
    {
     "name": "stdout",
     "output_type": "stream",
     "text": [
      "!WARNING: Not complete! ReType it!\n"
     ]
    },
    {
     "name": "stdin",
     "output_type": "stream",
     "text": [
      " BCBC\n"
     ]
    },
    {
     "name": "stdout",
     "output_type": "stream",
     "text": [
      "input s3 answers:\n"
     ]
    },
    {
     "name": "stdin",
     "output_type": "stream",
     "text": [
      " C\n"
     ]
    },
    {
     "name": "stdout",
     "output_type": "stream",
     "text": [
      "input s4 answers:\n"
     ]
    },
    {
     "name": "stdin",
     "output_type": "stream",
     "text": [
      " ABB\n"
     ]
    },
    {
     "name": "stdout",
     "output_type": "stream",
     "text": [
      "Section 1: 1\n",
      "2. B\n",
      "\n",
      "Section 2: 4\n",
      "1. A\n",
      "2. B\n",
      "3. C\n",
      "4. D\n",
      "\n",
      "Section 3: 0\n",
      "\n",
      "Section 4: 1\n",
      "3. C\n",
      "\n"
     ]
    },
    {
     "data": {
      "text/plain": [
       "''"
      ]
     },
     "execution_count": 9,
     "metadata": {},
     "output_type": "execute_result"
    }
   ],
   "source": [
    "SATgrading()"
   ]
  },
  {
   "cell_type": "code",
   "execution_count": null,
   "id": "55ad970e-a71d-4fbf-b5f9-3af0e35ecfad",
   "metadata": {},
   "outputs": [],
   "source": [
    "SATgrading()"
   ]
  },
  {
   "cell_type": "code",
   "execution_count": 80,
   "id": "ca25057e-4d47-476c-b712-22570055af0d",
   "metadata": {},
   "outputs": [
    {
     "name": "stdout",
     "output_type": "stream",
     "text": [
      "haha (a)\n"
     ]
    }
   ],
   "source": [
    "a=0.21\n",
    "print('haha (a)'.format(.1))"
   ]
  },
  {
   "cell_type": "raw",
   "id": "08af9e1a-46d5-4885-a0f6-25267143c796",
   "metadata": {},
   "source": [
    "input s1 solutions:\n",
    "\n",
    " DBABC BDBAC BBCCD ACADC DDAAD DACBC CCADD BBDDA CBDBC AABDC DC\n",
    "\n",
    "input s2 solutions:\n",
    "\n",
    " BCDAA DBDDC ADDBA CDDBC CADABAACBA BCBBD DADAD ACAB\n",
    "\n",
    "input s3 solutions:\n",
    "\n",
    " ACDBB DDBDC AADAC \n",
    "\n",
    "input s4 solutions:\n",
    "\n",
    " BBACA CABBD CBCBD ADCBA DBDCD CDADB\n",
    "\n",
    "input s1 answers:\n",
    "\n",
    " DBABC, BCBAC  BBCCD, ACADC  DDAAD, DACBC  C/CADD, DBDDA  CB/ABC, AABDC  DA\n",
    "\n",
    "input s2 answers:\n",
    "\n",
    " BCDAA, DBDDC  A/DDBA, CDDBC  CA/DAB, AACBA  BCB/BD, DCDAD  ABAB \n",
    "\n",
    "input s3 answers:\n",
    "\n",
    " ACDBB, DDBDC  AADAC \n",
    "\n",
    "input s4 answers:\n"
   ]
  },
  {
   "cell_type": "code",
   "execution_count": 26,
   "id": "e4672d5c-ebbc-466f-9af0-cadd9e09ca86",
   "metadata": {},
   "outputs": [
    {
     "name": "stdin",
     "output_type": "stream",
     "text": [
      "  JF  DDs SJD  \n"
     ]
    }
   ],
   "source": [
    "ansinput = input()"
   ]
  },
  {
   "cell_type": "code",
   "execution_count": 13,
   "id": "926c8b3b-b31c-457b-b695-b3d8eb1f5221",
   "metadata": {},
   "outputs": [],
   "source": [
    "# only keep letter answers\n",
    "answers = []\n",
    "for _ans in ansinput:\n",
    "    if _ans=='A':\n",
    "        answers.append('A')\n",
    "    if _ans=='B':\n",
    "        answers.append('B')\n",
    "    if _ans=='C':\n",
    "        answers.append('C')\n",
    "    if _ans=='D':\n",
    "        answers.append('D')"
   ]
  },
  {
   "cell_type": "code",
   "execution_count": 20,
   "id": "41828050-5cc7-47f6-bddd-f19a18f331ee",
   "metadata": {},
   "outputs": [
    {
     "name": "stdout",
     "output_type": "stream",
     "text": [
      "not complete\n"
     ]
    }
   ],
   "source": [
    "# check if it's complete\n",
    "if len(answers) != 52:\n",
    "    print('not complete')"
   ]
  },
  {
   "cell_type": "code",
   "execution_count": 33,
   "id": "4e19be23-78f9-4d5c-b822-ff043ca09d83",
   "metadata": {},
   "outputs": [
    {
     "name": "stdin",
     "output_type": "stream",
     "text": [
      " haha\n"
     ]
    },
    {
     "name": "stdout",
     "output_type": "stream",
     "text": [
      "not complete\n"
     ]
    }
   ],
   "source": [
    "solutions = input().replace(' ','')\n",
    "if len(solutions) != 52:\n",
    "    print('not complete')"
   ]
  },
  {
   "cell_type": "code",
   "execution_count": null,
   "id": "ab92879e-0c8e-45f5-a2b3-539bcd65d80c",
   "metadata": {},
   "outputs": [],
   "source": [
    "counter = 0\n",
    "incor = ''\n",
    "for i, _solution in enumerate(solutions):\n",
    "    if _solution != answers[i]:\n",
    "        #incor = incor + str(i+1) + '. ' + str(_solution) + '\\n' \n",
    "        print(i+1,'. ', _solution)\n",
    "        counter += 1"
   ]
  },
  {
   "cell_type": "code",
   "execution_count": 62,
   "id": "17c1bd3f-3f6c-4fec-abf1-2f0674f108c3",
   "metadata": {},
   "outputs": [],
   "source": [
    "def tes():\n",
    "    print('haha')\n",
    "    return 3"
   ]
  },
  {
   "cell_type": "code",
   "execution_count": 64,
   "id": "a9bb7e42-98a3-49ed-b488-22a72204202b",
   "metadata": {},
   "outputs": [
    {
     "name": "stdout",
     "output_type": "stream",
     "text": [
      "haha\n"
     ]
    }
   ],
   "source": [
    "h = tes()"
   ]
  },
  {
   "cell_type": "code",
   "execution_count": 65,
   "id": "6307bf58-9852-46b9-ae2a-f1aa4feedebd",
   "metadata": {},
   "outputs": [
    {
     "data": {
      "text/plain": [
       "3"
      ]
     },
     "execution_count": 65,
     "metadata": {},
     "output_type": "execute_result"
    }
   ],
   "source": [
    "h"
   ]
  },
  {
   "cell_type": "code",
   "execution_count": null,
   "id": "d1ff0d1b-0858-4c9d-87f9-8d42eb32dd8f",
   "metadata": {},
   "outputs": [],
   "source": []
  }
 ],
 "metadata": {
  "kernelspec": {
   "display_name": "Python 3 (ipykernel)",
   "language": "python",
   "name": "python3"
  },
  "language_info": {
   "codemirror_mode": {
    "name": "ipython",
    "version": 3
   },
   "file_extension": ".py",
   "mimetype": "text/x-python",
   "name": "python",
   "nbconvert_exporter": "python",
   "pygments_lexer": "ipython3",
   "version": "3.9.9"
  }
 },
 "nbformat": 4,
 "nbformat_minor": 5
}
